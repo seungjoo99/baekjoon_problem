{
 "cells": [
  {
   "cell_type": "markdown",
   "metadata": {},
   "source": [
    "input이 가지고 있는 카드개수 + 카드 숫자들\n",
    "        비교할 숫자 개수 + 숫자들"
   ]
  },
  {
   "cell_type": "markdown",
   "metadata": {},
   "source": [
    "비교할 숫자가 가지고 있는 카드에 있으면 1 없으면 0 으로 출력\n",
    "ex) 0 1 0 1 1"
   ]
  },
  {
   "cell_type": "code",
   "execution_count": 1,
   "metadata": {},
   "outputs": [
    {
     "name": "stdout",
     "output_type": "stream",
     "text": [
      "5\n",
      "1 2 3 4 5\n",
      "6\n",
      "1 4 5 3 7 8\n"
     ]
    }
   ],
   "source": [
    "card_num=int(input()) # 가지고 있는 카드 개수\n",
    "card_list=set(map(int, input().split())) # 카드 숫자들\n",
    "m=int(input()) # 비교할 숫자 개수\n",
    "m_list=list(map(int, input().split())) # 비교할 숫자들"
   ]
  },
  {
   "cell_type": "code",
   "execution_count": 2,
   "metadata": {},
   "outputs": [
    {
     "name": "stdout",
     "output_type": "stream",
     "text": [
      "1 1 1 1 0 0 "
     ]
    }
   ],
   "source": [
    "ans_list=[0 for i in range(m)] # 0xm 0리스트 만들기\n",
    "for i in range(m):\n",
    "    if m_list[i] in card_list:\n",
    "        ans_list[i]=1 #존재한다면 1\n",
    "for i in range(m):\n",
    "    print(ans_list[i], end=' ') #리스트 요소들 프린트 공백으로 나눠서"
   ]
  },
  {
   "cell_type": "code",
   "execution_count": null,
   "metadata": {},
   "outputs": [],
   "source": []
  }
 ],
 "metadata": {
  "kernelspec": {
   "display_name": "Python 3",
   "language": "python",
   "name": "python3"
  },
  "language_info": {
   "codemirror_mode": {
    "name": "ipython",
    "version": 3
   },
   "file_extension": ".py",
   "mimetype": "text/x-python",
   "name": "python",
   "nbconvert_exporter": "python",
   "pygments_lexer": "ipython3",
   "version": "3.7.6"
  }
 },
 "nbformat": 4,
 "nbformat_minor": 2
}
